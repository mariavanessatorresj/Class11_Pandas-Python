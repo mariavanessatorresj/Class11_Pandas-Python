{
 "cells": [
  {
   "cell_type": "markdown",
   "metadata": {},
   "source": [
    "# Entradas y salidas"
   ]
  },
  {
   "cell_type": "code",
   "execution_count": null,
   "metadata": {},
   "outputs": [
    {
     "data": {
      "text/html": [
       "<div>\n",
       "<style scoped>\n",
       "    .dataframe tbody tr th:only-of-type {\n",
       "        vertical-align: middle;\n",
       "    }\n",
       "\n",
       "    .dataframe tbody tr th {\n",
       "        vertical-align: top;\n",
       "    }\n",
       "\n",
       "    .dataframe thead th {\n",
       "        text-align: right;\n",
       "    }\n",
       "</style>\n",
       "<table border=\"1\" class=\"dataframe\">\n",
       "  <thead>\n",
       "    <tr style=\"text-align: right;\">\n",
       "      <th></th>\n",
       "      <th>A</th>\n",
       "      <th>B</th>\n",
       "      <th>C</th>\n",
       "      <th>D</th>\n",
       "      <th>E</th>\n",
       "    </tr>\n",
       "  </thead>\n",
       "  <tbody>\n",
       "    <tr>\n",
       "      <th>0</th>\n",
       "      <td>1.830948</td>\n",
       "      <td>-0.411393</td>\n",
       "      <td>-1.998277</td>\n",
       "      <td>0.129772</td>\n",
       "      <td>0.391457</td>\n",
       "    </tr>\n",
       "    <tr>\n",
       "      <th>1</th>\n",
       "      <td>-0.179231</td>\n",
       "      <td>-0.267537</td>\n",
       "      <td>0.380770</td>\n",
       "      <td>-0.070137</td>\n",
       "      <td>-0.679177</td>\n",
       "    </tr>\n",
       "    <tr>\n",
       "      <th>2</th>\n",
       "      <td>0.323647</td>\n",
       "      <td>0.053490</td>\n",
       "      <td>0.814029</td>\n",
       "      <td>2.018265</td>\n",
       "      <td>-1.662277</td>\n",
       "    </tr>\n",
       "    <tr>\n",
       "      <th>3</th>\n",
       "      <td>-0.758778</td>\n",
       "      <td>-0.616979</td>\n",
       "      <td>0.917505</td>\n",
       "      <td>0.987933</td>\n",
       "      <td>-0.493603</td>\n",
       "    </tr>\n",
       "    <tr>\n",
       "      <th>4</th>\n",
       "      <td>0.491407</td>\n",
       "      <td>0.998926</td>\n",
       "      <td>-0.048797</td>\n",
       "      <td>0.902146</td>\n",
       "      <td>-0.421888</td>\n",
       "    </tr>\n",
       "    <tr>\n",
       "      <th>5</th>\n",
       "      <td>0.454052</td>\n",
       "      <td>0.205133</td>\n",
       "      <td>-0.969087</td>\n",
       "      <td>-1.018863</td>\n",
       "      <td>-0.056821</td>\n",
       "    </tr>\n",
       "    <tr>\n",
       "      <th>6</th>\n",
       "      <td>-0.967621</td>\n",
       "      <td>-1.070989</td>\n",
       "      <td>-2.183894</td>\n",
       "      <td>0.181702</td>\n",
       "      <td>0.118078</td>\n",
       "    </tr>\n",
       "    <tr>\n",
       "      <th>7</th>\n",
       "      <td>0.816063</td>\n",
       "      <td>-0.060292</td>\n",
       "      <td>0.426435</td>\n",
       "      <td>-1.008076</td>\n",
       "      <td>-1.271093</td>\n",
       "    </tr>\n",
       "    <tr>\n",
       "      <th>8</th>\n",
       "      <td>-1.393617</td>\n",
       "      <td>1.718942</td>\n",
       "      <td>-0.672261</td>\n",
       "      <td>-0.864521</td>\n",
       "      <td>1.234798</td>\n",
       "    </tr>\n",
       "    <tr>\n",
       "      <th>9</th>\n",
       "      <td>0.324395</td>\n",
       "      <td>-1.116741</td>\n",
       "      <td>0.217400</td>\n",
       "      <td>0.645720</td>\n",
       "      <td>1.205517</td>\n",
       "    </tr>\n",
       "  </tbody>\n",
       "</table>\n",
       "</div>"
      ],
      "text/plain": [
       "          A         B         C         D         E\n",
       "0  1.830948 -0.411393 -1.998277  0.129772  0.391457\n",
       "1 -0.179231 -0.267537  0.380770 -0.070137 -0.679177\n",
       "2  0.323647  0.053490  0.814029  2.018265 -1.662277\n",
       "3 -0.758778 -0.616979  0.917505  0.987933 -0.493603\n",
       "4  0.491407  0.998926 -0.048797  0.902146 -0.421888\n",
       "5  0.454052  0.205133 -0.969087 -1.018863 -0.056821\n",
       "6 -0.967621 -1.070989 -2.183894  0.181702  0.118078\n",
       "7  0.816063 -0.060292  0.426435 -1.008076 -1.271093\n",
       "8 -1.393617  1.718942 -0.672261 -0.864521  1.234798\n",
       "9  0.324395 -1.116741  0.217400  0.645720  1.205517"
      ]
     },
     "execution_count": 1,
     "metadata": {},
     "output_type": "execute_result"
    }
   ],
   "source": [
    "import numpy as np\n",
    "import pandas as pd\n",
    "\n",
    "# Definimos un dataframe con datos de ejemplos\n",
    "df = pd.DataFrame(np.random.randn(10, 5), columns=[\"A\", \"B\", \"C\", \"D\", \"E\"])#random décimal\n",
    "\n",
    "df"
   ]
  },
  {
   "cell_type": "markdown",
   "metadata": {},
   "source": [
    "## CSV\n",
    "\n",
    "### Guardar a CSV"
   ]
  },
  {
   "cell_type": "code",
   "execution_count": 9,
   "metadata": {},
   "outputs": [],
   "source": [
    "df.to_csv('datos.csv', index=False)"
   ]
  },
  {
   "cell_type": "code",
   "execution_count": 4,
   "metadata": {},
   "outputs": [],
   "source": [
    "# Borramos el df de la memoria\n",
    "del(df)"
   ]
  },
  {
   "cell_type": "markdown",
   "metadata": {},
   "source": [
    "### Cargar desde CSV"
   ]
  },
  {
   "cell_type": "code",
   "execution_count": 8,
   "metadata": {},
   "outputs": [
    {
     "data": {
      "text/html": [
       "<div>\n",
       "<style scoped>\n",
       "    .dataframe tbody tr th:only-of-type {\n",
       "        vertical-align: middle;\n",
       "    }\n",
       "\n",
       "    .dataframe tbody tr th {\n",
       "        vertical-align: top;\n",
       "    }\n",
       "\n",
       "    .dataframe thead th {\n",
       "        text-align: right;\n",
       "    }\n",
       "</style>\n",
       "<table border=\"1\" class=\"dataframe\">\n",
       "  <thead>\n",
       "    <tr style=\"text-align: right;\">\n",
       "      <th></th>\n",
       "      <th>A</th>\n",
       "      <th>B</th>\n",
       "      <th>C</th>\n",
       "      <th>D</th>\n",
       "      <th>E</th>\n",
       "    </tr>\n",
       "  </thead>\n",
       "  <tbody>\n",
       "    <tr>\n",
       "      <th>0</th>\n",
       "      <td>1.830948</td>\n",
       "      <td>-0.411393</td>\n",
       "      <td>-1.998277</td>\n",
       "      <td>0.129772</td>\n",
       "      <td>0.391457</td>\n",
       "    </tr>\n",
       "    <tr>\n",
       "      <th>1</th>\n",
       "      <td>-0.179231</td>\n",
       "      <td>-0.267537</td>\n",
       "      <td>0.380770</td>\n",
       "      <td>-0.070137</td>\n",
       "      <td>-0.679177</td>\n",
       "    </tr>\n",
       "    <tr>\n",
       "      <th>2</th>\n",
       "      <td>0.323647</td>\n",
       "      <td>0.053490</td>\n",
       "      <td>0.814029</td>\n",
       "      <td>2.018265</td>\n",
       "      <td>-1.662277</td>\n",
       "    </tr>\n",
       "    <tr>\n",
       "      <th>3</th>\n",
       "      <td>-0.758778</td>\n",
       "      <td>-0.616979</td>\n",
       "      <td>0.917505</td>\n",
       "      <td>0.987933</td>\n",
       "      <td>-0.493603</td>\n",
       "    </tr>\n",
       "    <tr>\n",
       "      <th>4</th>\n",
       "      <td>0.491407</td>\n",
       "      <td>0.998926</td>\n",
       "      <td>-0.048797</td>\n",
       "      <td>0.902146</td>\n",
       "      <td>-0.421888</td>\n",
       "    </tr>\n",
       "    <tr>\n",
       "      <th>5</th>\n",
       "      <td>0.454052</td>\n",
       "      <td>0.205133</td>\n",
       "      <td>-0.969087</td>\n",
       "      <td>-1.018863</td>\n",
       "      <td>-0.056821</td>\n",
       "    </tr>\n",
       "    <tr>\n",
       "      <th>6</th>\n",
       "      <td>-0.967621</td>\n",
       "      <td>-1.070989</td>\n",
       "      <td>-2.183894</td>\n",
       "      <td>0.181702</td>\n",
       "      <td>0.118078</td>\n",
       "    </tr>\n",
       "    <tr>\n",
       "      <th>7</th>\n",
       "      <td>0.816063</td>\n",
       "      <td>-0.060292</td>\n",
       "      <td>0.426435</td>\n",
       "      <td>-1.008076</td>\n",
       "      <td>-1.271093</td>\n",
       "    </tr>\n",
       "    <tr>\n",
       "      <th>8</th>\n",
       "      <td>-1.393617</td>\n",
       "      <td>1.718942</td>\n",
       "      <td>-0.672261</td>\n",
       "      <td>-0.864521</td>\n",
       "      <td>1.234798</td>\n",
       "    </tr>\n",
       "    <tr>\n",
       "      <th>9</th>\n",
       "      <td>0.324395</td>\n",
       "      <td>-1.116741</td>\n",
       "      <td>0.217400</td>\n",
       "      <td>0.645720</td>\n",
       "      <td>1.205517</td>\n",
       "    </tr>\n",
       "  </tbody>\n",
       "</table>\n",
       "</div>"
      ],
      "text/plain": [
       "          A         B         C         D         E\n",
       "0  1.830948 -0.411393 -1.998277  0.129772  0.391457\n",
       "1 -0.179231 -0.267537  0.380770 -0.070137 -0.679177\n",
       "2  0.323647  0.053490  0.814029  2.018265 -1.662277\n",
       "3 -0.758778 -0.616979  0.917505  0.987933 -0.493603\n",
       "4  0.491407  0.998926 -0.048797  0.902146 -0.421888\n",
       "5  0.454052  0.205133 -0.969087 -1.018863 -0.056821\n",
       "6 -0.967621 -1.070989 -2.183894  0.181702  0.118078\n",
       "7  0.816063 -0.060292  0.426435 -1.008076 -1.271093\n",
       "8 -1.393617  1.718942 -0.672261 -0.864521  1.234798\n",
       "9  0.324395 -1.116741  0.217400  0.645720  1.205517"
      ]
     },
     "execution_count": 8,
     "metadata": {},
     "output_type": "execute_result"
    }
   ],
   "source": [
    "df = pd.read_csv('datos.csv')\n",
    "\n",
    "df"
   ]
  },
  {
   "cell_type": "markdown",
   "metadata": {},
   "source": [
    "## JSON\n",
    "\n",
    "### Guardar a JSON"
   ]
  },
  {
   "cell_type": "code",
   "execution_count": 12,
   "metadata": {},
   "outputs": [
    {
     "ename": "NameError",
     "evalue": "name 'df' is not defined",
     "output_type": "error",
     "traceback": [
      "\u001b[1;31m---------------------------------------------------------------------------\u001b[0m",
      "\u001b[1;31mNameError\u001b[0m                                 Traceback (most recent call last)",
      "Cell \u001b[1;32mIn[12], line 1\u001b[0m\n\u001b[1;32m----> 1\u001b[0m \u001b[43mdf\u001b[49m\u001b[38;5;241m.\u001b[39mto_json(\u001b[38;5;124m'\u001b[39m\u001b[38;5;124mdatos.json\u001b[39m\u001b[38;5;124m'\u001b[39m)\n",
      "\u001b[1;31mNameError\u001b[0m: name 'df' is not defined"
     ]
    }
   ],
   "source": [
    "df.to_json('datos.json')"
   ]
  },
  {
   "cell_type": "code",
   "execution_count": 11,
   "metadata": {},
   "outputs": [],
   "source": [
    "# Borramos el df de la memoria\n",
    "del(df)"
   ]
  },
  {
   "cell_type": "markdown",
   "metadata": {},
   "source": [
    "### Cargar desde JSON"
   ]
  },
  {
   "cell_type": "code",
   "execution_count": 13,
   "metadata": {},
   "outputs": [
    {
     "data": {
      "text/html": [
       "<div>\n",
       "<style scoped>\n",
       "    .dataframe tbody tr th:only-of-type {\n",
       "        vertical-align: middle;\n",
       "    }\n",
       "\n",
       "    .dataframe tbody tr th {\n",
       "        vertical-align: top;\n",
       "    }\n",
       "\n",
       "    .dataframe thead th {\n",
       "        text-align: right;\n",
       "    }\n",
       "</style>\n",
       "<table border=\"1\" class=\"dataframe\">\n",
       "  <thead>\n",
       "    <tr style=\"text-align: right;\">\n",
       "      <th></th>\n",
       "      <th>A</th>\n",
       "      <th>B</th>\n",
       "      <th>C</th>\n",
       "      <th>D</th>\n",
       "      <th>E</th>\n",
       "    </tr>\n",
       "  </thead>\n",
       "  <tbody>\n",
       "    <tr>\n",
       "      <th>0</th>\n",
       "      <td>1.830948</td>\n",
       "      <td>-0.411393</td>\n",
       "      <td>-1.998277</td>\n",
       "      <td>0.129772</td>\n",
       "      <td>0.391457</td>\n",
       "    </tr>\n",
       "    <tr>\n",
       "      <th>1</th>\n",
       "      <td>-0.179231</td>\n",
       "      <td>-0.267537</td>\n",
       "      <td>0.380770</td>\n",
       "      <td>-0.070137</td>\n",
       "      <td>-0.679177</td>\n",
       "    </tr>\n",
       "    <tr>\n",
       "      <th>2</th>\n",
       "      <td>0.323647</td>\n",
       "      <td>0.053490</td>\n",
       "      <td>0.814029</td>\n",
       "      <td>2.018265</td>\n",
       "      <td>-1.662277</td>\n",
       "    </tr>\n",
       "    <tr>\n",
       "      <th>3</th>\n",
       "      <td>-0.758778</td>\n",
       "      <td>-0.616979</td>\n",
       "      <td>0.917505</td>\n",
       "      <td>0.987933</td>\n",
       "      <td>-0.493603</td>\n",
       "    </tr>\n",
       "    <tr>\n",
       "      <th>4</th>\n",
       "      <td>0.491407</td>\n",
       "      <td>0.998926</td>\n",
       "      <td>-0.048797</td>\n",
       "      <td>0.902146</td>\n",
       "      <td>-0.421888</td>\n",
       "    </tr>\n",
       "    <tr>\n",
       "      <th>5</th>\n",
       "      <td>0.454052</td>\n",
       "      <td>0.205133</td>\n",
       "      <td>-0.969087</td>\n",
       "      <td>-1.018863</td>\n",
       "      <td>-0.056821</td>\n",
       "    </tr>\n",
       "    <tr>\n",
       "      <th>6</th>\n",
       "      <td>-0.967621</td>\n",
       "      <td>-1.070989</td>\n",
       "      <td>-2.183894</td>\n",
       "      <td>0.181702</td>\n",
       "      <td>0.118078</td>\n",
       "    </tr>\n",
       "    <tr>\n",
       "      <th>7</th>\n",
       "      <td>0.816063</td>\n",
       "      <td>-0.060292</td>\n",
       "      <td>0.426435</td>\n",
       "      <td>-1.008076</td>\n",
       "      <td>-1.271093</td>\n",
       "    </tr>\n",
       "    <tr>\n",
       "      <th>8</th>\n",
       "      <td>-1.393617</td>\n",
       "      <td>1.718942</td>\n",
       "      <td>-0.672261</td>\n",
       "      <td>-0.864521</td>\n",
       "      <td>1.234798</td>\n",
       "    </tr>\n",
       "    <tr>\n",
       "      <th>9</th>\n",
       "      <td>0.324395</td>\n",
       "      <td>-1.116741</td>\n",
       "      <td>0.217400</td>\n",
       "      <td>0.645720</td>\n",
       "      <td>1.205517</td>\n",
       "    </tr>\n",
       "  </tbody>\n",
       "</table>\n",
       "</div>"
      ],
      "text/plain": [
       "          A         B         C         D         E\n",
       "0  1.830948 -0.411393 -1.998277  0.129772  0.391457\n",
       "1 -0.179231 -0.267537  0.380770 -0.070137 -0.679177\n",
       "2  0.323647  0.053490  0.814029  2.018265 -1.662277\n",
       "3 -0.758778 -0.616979  0.917505  0.987933 -0.493603\n",
       "4  0.491407  0.998926 -0.048797  0.902146 -0.421888\n",
       "5  0.454052  0.205133 -0.969087 -1.018863 -0.056821\n",
       "6 -0.967621 -1.070989 -2.183894  0.181702  0.118078\n",
       "7  0.816063 -0.060292  0.426435 -1.008076 -1.271093\n",
       "8 -1.393617  1.718942 -0.672261 -0.864521  1.234798\n",
       "9  0.324395 -1.116741  0.217400  0.645720  1.205517"
      ]
     },
     "execution_count": 13,
     "metadata": {},
     "output_type": "execute_result"
    }
   ],
   "source": [
    "df = pd.read_json('datos.json')\n",
    "\n",
    "df"
   ]
  },
  {
   "cell_type": "markdown",
   "metadata": {},
   "source": [
    "## Excel\n",
    "\n",
    "Necesitamos instalar el módulo `openpyxl` para generar y leer este formato:\n",
    "\n",
    "    pip install openpyxl"
   ]
  },
  {
   "cell_type": "code",
   "execution_count": 14,
   "metadata": {},
   "outputs": [
    {
     "name": "stdout",
     "output_type": "stream",
     "text": [
      "Collecting openpyxl\n",
      "  Downloading openpyxl-3.1.5-py2.py3-none-any.whl.metadata (2.5 kB)\n",
      "Collecting et-xmlfile (from openpyxl)\n",
      "  Downloading et_xmlfile-2.0.0-py3-none-any.whl.metadata (2.7 kB)\n",
      "Downloading openpyxl-3.1.5-py2.py3-none-any.whl (250 kB)\n",
      "Downloading et_xmlfile-2.0.0-py3-none-any.whl (18 kB)\n",
      "Installing collected packages: et-xmlfile, openpyxl\n",
      "Successfully installed et-xmlfile-2.0.0 openpyxl-3.1.5\n"
     ]
    }
   ],
   "source": [
    "!pip install openpyxl"
   ]
  },
  {
   "cell_type": "markdown",
   "metadata": {},
   "source": [
    "### Guardar a Excel"
   ]
  },
  {
   "cell_type": "code",
   "execution_count": 16,
   "metadata": {},
   "outputs": [],
   "source": [
    "df.to_excel('datos.xlsx', sheet_name='Sheet1', index=False)"
   ]
  },
  {
   "cell_type": "code",
   "execution_count": null,
   "metadata": {},
   "outputs": [],
   "source": [
    "# Borramos el df de la memoria\n",
    "del(df)"
   ]
  },
  {
   "cell_type": "markdown",
   "metadata": {},
   "source": [
    "### Cargar desde Excel"
   ]
  },
  {
   "cell_type": "code",
   "execution_count": null,
   "metadata": {},
   "outputs": [],
   "source": [
    "df = pd.read_excel('datos.xlsx', sheet_name='Sheet1')\n",
    "\n",
    "df"
   ]
  },
  {
   "cell_type": "markdown",
   "metadata": {},
   "source": [
    "Con `Matplotlib`, que aprenderemos en la próxima sección, podemos graficar estos resultados fácilmente:"
   ]
  },
  {
   "cell_type": "code",
   "execution_count": 17,
   "metadata": {},
   "outputs": [
    {
     "ename": "NameError",
     "evalue": "name 'fertility_rate' is not defined",
     "output_type": "error",
     "traceback": [
      "\u001b[1;31m---------------------------------------------------------------------------\u001b[0m",
      "\u001b[1;31mNameError\u001b[0m                                 Traceback (most recent call last)",
      "Cell \u001b[1;32mIn[17], line 4\u001b[0m\n\u001b[0;32m      1\u001b[0m \u001b[38;5;28;01mimport\u001b[39;00m \u001b[38;5;21;01mmatplotlib\u001b[39;00m\u001b[38;5;21;01m.\u001b[39;00m\u001b[38;5;21;01mpyplot\u001b[39;00m \u001b[38;5;28;01mas\u001b[39;00m \u001b[38;5;21;01mplt\u001b[39;00m\n\u001b[0;32m      2\u001b[0m plt\u001b[38;5;241m.\u001b[39mrcParams[\u001b[38;5;124m\"\u001b[39m\u001b[38;5;124mfigure.figsize\u001b[39m\u001b[38;5;124m\"\u001b[39m] \u001b[38;5;241m=\u001b[39m \u001b[38;5;241m10\u001b[39m,\u001b[38;5;241m5\u001b[39m\n\u001b[1;32m----> 4\u001b[0m \u001b[43mfertility_rate\u001b[49m\u001b[38;5;241m.\u001b[39mmean()[\u001b[38;5;241m1\u001b[39m:]\u001b[38;5;241m.\u001b[39mplot(kind\u001b[38;5;241m=\u001b[39m\u001b[38;5;124m'\u001b[39m\u001b[38;5;124mline\u001b[39m\u001b[38;5;124m'\u001b[39m, xlabel\u001b[38;5;241m=\u001b[39m\u001b[38;5;124m\"\u001b[39m\u001b[38;5;124mPeríodos\u001b[39m\u001b[38;5;124m\"\u001b[39m, ylabel\u001b[38;5;241m=\u001b[39m\u001b[38;5;124m\"\u001b[39m\u001b[38;5;124mMedia de natalidad mundial\u001b[39m\u001b[38;5;124m\"\u001b[39m)\n",
      "\u001b[1;31mNameError\u001b[0m: name 'fertility_rate' is not defined"
     ]
    }
   ],
   "source": [
    "import matplotlib.pyplot as plt\n",
    "plt.rcParams[\"figure.figsize\"] = 10,5\n",
    "\n",
    "fertility_rate.mean()[1:].plot(kind='line', xlabel=\"Períodos\", ylabel=\"Media de natalidad mundial\")"
   ]
  },
  {
   "cell_type": "markdown",
   "metadata": {},
   "source": [
    "La práctica hace el maestro, os animo a hacer vuestras propias pruebas y googlear cualquier cosa que se os ocurra para aprender mucho más."
   ]
  },
  {
   "cell_type": "code",
   "execution_count": null,
   "metadata": {},
   "outputs": [],
   "source": []
  }
 ],
 "metadata": {
  "kernelspec": {
   "display_name": "Python 3",
   "language": "python",
   "name": "python3"
  },
  "language_info": {
   "codemirror_mode": {
    "name": "ipython",
    "version": 3
   },
   "file_extension": ".py",
   "mimetype": "text/x-python",
   "name": "python",
   "nbconvert_exporter": "python",
   "pygments_lexer": "ipython3",
   "version": "3.12.6"
  }
 },
 "nbformat": 4,
 "nbformat_minor": 1
}
